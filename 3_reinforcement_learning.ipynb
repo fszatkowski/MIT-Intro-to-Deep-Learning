{
  "nbformat": 4,
  "nbformat_minor": 0,
  "metadata": {
    "colab": {
      "name": "3_reinforcement_learning.ipynb",
      "version": "0.3.2",
      "provenance": [],
      "collapsed_sections": [],
      "include_colab_link": true
    },
    "kernelspec": {
      "name": "python2",
      "display_name": "Python 2"
    },
    "accelerator": "GPU"
  },
  "cells": [
    {
      "cell_type": "markdown",
      "metadata": {
        "id": "view-in-github",
        "colab_type": "text"
      },
      "source": [
        "<a href=\"https://colab.research.google.com/github/fszatkowski96/MIT-Intro-to-Deep-Learning/blob/master/3_reinforcement_learning.ipynb\" target=\"_parent\"><img src=\"https://colab.research.google.com/assets/colab-badge.svg\" alt=\"Open In Colab\"/></a>"
      ]
    },
    {
      "metadata": {
        "id": "WoXYKhfZMHiw",
        "colab_type": "text"
      },
      "cell_type": "markdown",
      "source": [
        "<table align=\"center\">\n",
        "  <td align=\"center\"><a target=\"_blank\" href=\"http://introtodeeplearning.com\">\n",
        "        <img src=\"http://introtodeeplearning.com/images/colab/mit.png\" style=\"padding-bottom:5px;\" />\n",
        "      Visit MIT Deep Learning</a></td>\n",
        "  <td align=\"center\"><a target=\"_blank\" href=\"https://colab.research.google.com/github/aamini/introtodeeplearning_labs/blob/master/lab3/Lab3_rl.ipynb\">\n",
        "        <img src=\"http://introtodeeplearning.com/images/colab/colab.png?v2.0\"  style=\"padding-bottom:5px;\" />Run in Google Colab</a></td>\n",
        "  <td align=\"center\"><a target=\"_blank\" href=\"https://github.com/aamini/introtodeeplearning_labs/blob/master/lab3/Lab3_rl.ipynb\">\n",
        "        <img src=\"http://introtodeeplearning.com/images/colab/github.png\"  height=\"70px\" style=\"padding-bottom:5px;\"  />View Source on GitHub</a></td>\n",
        "</table>\n",
        "\n",
        "# Lab 3: Model-Free Reinforcement Learning\n",
        "\n",
        "Reinforcement learning (RL) is a subset of machine learning which poses learning problems as interactions between agents and environments. It often assumes agents have no prior knowledge of the given world, so they must learn to navigate environments by optimizing some provided reward function. Within a world, an agent can take certain actions and receive feedback--in the form of positive or negative rewards--with respect to their decision. As such, an agent's feedback loop is somewhat akin to the manner in which a child might learn to distinguish between \"good\" and \"bad\" actions. In practical terms, our RL agent will interact with the environment by taking an action at each timestep, receiving a corresponding reward, and updating its state according to what it's \"learned\".  \n",
        "\n",
        "![alt text](https://www.kdnuggets.com/images/reinforcement-learning-fig1-700.jpg)\n",
        "\n",
        "## Why do we care about games? \n",
        "While the ultimate goal of reinforcement learning is to teach agents to act in the real, physical world, games provide a set of very useful properties that we also care about: \n",
        "\n",
        "1.   In many cases, games have perfectly describable enviornments. For example, all rules of chess can be formally written and programmed into a chess game simulator;\n",
        "2.   Massively parallelizable. Do not require running in the real world, therefore simultaneous environments can be run on large data clusters; \n",
        "3.   Fast prototyping of algorithms on simpler scenarios can speed up the development of algorithms that could eventually run in the real-world; and\n",
        "4.   ... Games are fun! \n",
        "\n",
        "In this lab, we focus on building a model-free reinforcement learning algorithm to master two different enviornments with varying complexity. \n",
        "\n",
        "1.   **Cartpole:   Balance a pole in an upright position by only moving your base left or right. Low-dimensional observation space.**\n",
        "2.   **Pong:   Beat a classical AI system designed at the game of Pong. High-dimensional observational space -- learning directly from raw pixels!  **\n"
      ]
    },
    {
      "metadata": {
        "id": "zmrHSiXKTXTY",
        "colab_type": "text"
      },
      "cell_type": "markdown",
      "source": [
        "#Part 1: Cartpole\n",
        "\n",
        "Since we're no longer dealing with a supervised learning task, let's take a step back and outline our approach to the problem. First, we'll need to create our environment and initialize our agent. Moreover, we'll need to provide our agent with some sort of mechanism for remembering action and reward history... in other words, a memory bank. Then we'll need to define our learning algorithm, much like we've done in previous labs.\n",
        "\n",
        "\n",
        "First we'll import TensorFlow, enable Eager execution, and also import some dependencies."
      ]
    },
    {
      "metadata": {
        "id": "xk5qeNPWCm00",
        "colab_type": "code",
        "outputId": "9401b695-7d3b-45c1-bc92-244e82e9cc8e",
        "colab": {
          "base_uri": "https://localhost:8080/",
          "height": 67
        }
      },
      "cell_type": "code",
      "source": [
        "!apt-get install -y xvfb python-opengl > /dev/null 2>&1\n",
        "!pip install gym pyvirtualdisplay scikit-video > /dev/null 2>&1\n",
        "\n",
        "import tensorflow as tf\n",
        "tf.enable_eager_execution()\n",
        "\n",
        "\n",
        "import gym\n",
        "import numpy as np\n",
        "import matplotlib.pyplot as plt\n",
        "from IPython import display as ipythondisplay\n",
        "import time\n",
        "\n",
        "# Download the class repository\n",
        "! git clone https://github.com/aamini/introtodeeplearning_labs.git  > /dev/null 2>&1\n",
        "% cd introtodeeplearning_labs \n",
        "! git pull\n",
        "% cd .. \n",
        "\n",
        "import introtodeeplearning_labs as util"
      ],
      "execution_count": 0,
      "outputs": [
        {
          "output_type": "stream",
          "text": [
            "/content/introtodeeplearning_labs\n",
            "Already up to date.\n",
            "/content\n"
          ],
          "name": "stdout"
        }
      ]
    },
    {
      "metadata": {
        "id": "UT7YL8KBJIIc",
        "colab_type": "text"
      },
      "cell_type": "markdown",
      "source": [
        "### 1.1 Define and inspect the environment\n",
        "\n",
        "In order to model our environment, we'll be using a toolkit developed by OpenAI, [OpenAI Gym](https://gym.openai.com/). It provides several pre-defined environments for training and testing reinforcement learning agents, including those for classic physics control tasks, Atari video games, and robotic simulations. To access the basic version of a control task, \"Cart Pole\", we can use `env = gym.make(\"CartPole-v0\")`. When we imported `gym`, we gained access to higher level functions in the package, including creating virtual worlds. Each environment has a specific identifier (for which you can read through [here](https://gym.openai.com/envs/#classic_control)) which is accessed by passing the environment name as a string variable.\n",
        "One issue we might experience when developing RL algorithms is that many aspects of the learning process are inherently random: initializing game states, changes in the environment, and the agent's actions. As such, it can be helpful to set a random \"seed\" for one of these variables to ensure some level of reproducibility. Much like you might use `numpy.random.seed`, we can call the comparable function in gym, `seed`, with our defined environment to ensure the environment's random variables are initialized the same each time. "
      ]
    },
    {
      "metadata": {
        "id": "quv9SC0iIYFm",
        "colab_type": "code",
        "outputId": "58eb76e1-676f-414e-d743-e0f229a6958e",
        "colab": {
          "base_uri": "https://localhost:8080/",
          "height": 34
        }
      },
      "cell_type": "code",
      "source": [
        "env = gym.make(\"CartPole-v0\")\n",
        "env.seed(1) # reproducible, since RL has high variance"
      ],
      "execution_count": 0,
      "outputs": [
        {
          "output_type": "execute_result",
          "data": {
            "text/plain": [
              "[1L]"
            ]
          },
          "metadata": {
            "tags": []
          },
          "execution_count": 3
        }
      ]
    },
    {
      "metadata": {
        "id": "mhEITUcKK455",
        "colab_type": "text"
      },
      "cell_type": "markdown",
      "source": [
        "\n",
        "**CartPole Environment: ** \n",
        "\n",
        "A pole is attached by an un-actuated joint to a cart, which moves along a frictionless track. The system is controlled by applying a force of +1 or -1 to the cart. The pendulum starts upright, and the goal is to prevent it from falling over. A reward of +1 is provided for every timestep that the pole remains upright. The episode ends when the pole is more than 15 degrees from vertical, or the cart moves more than 2.4 units from the center.\n",
        "\n",
        "<img width=\"400px\" src=\"https://danielpiedrahita.files.wordpress.com/2017/02/cart-pole.png\"></img>\n",
        "\n",
        "Observations:\n",
        "\n",
        "1. position of cart\n",
        "2. velocity of cart\n",
        "3. angle of pole\n",
        "4. rotation rate of pole\n",
        "\n",
        "We can confirm the size of the space by querying the observation space:\n"
      ]
    },
    {
      "metadata": {
        "id": "UVJaEcbdIX82",
        "colab_type": "code",
        "outputId": "9bb5ae5a-65da-4cd7-b008-c76bc81bace1",
        "colab": {
          "base_uri": "https://localhost:8080/",
          "height": 34
        }
      },
      "cell_type": "code",
      "source": [
        "print \"Enviornment has observation space = {}\".format(env.observation_space)"
      ],
      "execution_count": 0,
      "outputs": [
        {
          "output_type": "stream",
          "text": [
            "Enviornment has observation space = Box(4,)\n"
          ],
          "name": "stdout"
        }
      ]
    },
    {
      "metadata": {
        "id": "ZibGgjrALgPM",
        "colab_type": "text"
      },
      "cell_type": "markdown",
      "source": [
        "At every time step, the agent can move either right or left. Confirm the size of the action space by querying the environment:"
      ]
    },
    {
      "metadata": {
        "id": "qc9SIPxBIXrm",
        "colab_type": "code",
        "outputId": "2814a61d-88d2-44ea-fce1-3fdcda1bc1eb",
        "colab": {
          "base_uri": "https://localhost:8080/",
          "height": 34
        }
      },
      "cell_type": "code",
      "source": [
        "n_actions = env.action_space.n\n",
        "print \"Number of possible actions that the agent can choose from = {}\".format(n_actions)"
      ],
      "execution_count": 0,
      "outputs": [
        {
          "output_type": "stream",
          "text": [
            "Number of possible actions that the agent can choose from = 2\n"
          ],
          "name": "stdout"
        }
      ]
    },
    {
      "metadata": {
        "id": "pPfHME8aRKkb",
        "colab_type": "text"
      },
      "cell_type": "markdown",
      "source": [
        "### 1.2 Define the Agent\n",
        "\n",
        "Let's define our agent, which is simply a deep neural network which takes as input an observation of the enviornment and outputs the probability of taking each of the possible actions. \n"
      ]
    },
    {
      "metadata": {
        "id": "W-o_XK4oQ4eu",
        "colab_type": "code",
        "colab": {}
      },
      "cell_type": "code",
      "source": [
        "def create_cartpole_model():\n",
        "  model = tf.keras.models.Sequential([\n",
        "      tf.keras.layers.Dense(units=32, activation='relu'),\n",
        "      # TODO: define the output dimension of the last Dense layer\n",
        "      # Hint: think about that the space the agent needs to act in\n",
        "      tf.keras.layers.Dense(units=n_actions, activation=None) # TODO\n",
        "  ])\n",
        "  return model\n",
        "\n",
        "cartpole_model = create_cartpole_model()"
      ],
      "execution_count": 0,
      "outputs": []
    },
    {
      "metadata": {
        "id": "d5D5NSIYS2IW",
        "colab_type": "text"
      },
      "cell_type": "markdown",
      "source": [
        "Define the action function that executes a forward pass through the network and samples from the output. Take special note of the output activation of the model."
      ]
    },
    {
      "metadata": {
        "id": "E_vVZRr8Q4R_",
        "colab_type": "code",
        "colab": {}
      },
      "cell_type": "code",
      "source": [
        "def choose_action(model, observation):\n",
        "    \n",
        "  observation = observation.reshape([1, -1])\n",
        "  '''TODO: feed the observations through the model to predict the log probabilities of each possible action.'''\n",
        "  logits = model.predict(observation)\n",
        "  \n",
        "  # pass the log probabilities through a softmax to compute true probabilities\n",
        "  prob_weights = tf.nn.softmax(logits).numpy()\n",
        "  \n",
        "  '''TODO: randomly sample from the prob_weights to pick an action.\n",
        "  Hint: carefully consider the dimensionality of the input probabilities (vector) and the output action (scalar)'''\n",
        "  action = np.random.choice(n_actions, size=1, p=prob_weights.flatten())[0]\n",
        "\n",
        "  return action"
      ],
      "execution_count": 0,
      "outputs": []
    },
    {
      "metadata": {
        "id": "_tR9uAWcTnkr",
        "colab_type": "text"
      },
      "cell_type": "markdown",
      "source": [
        "### 1.3 Create the agent's memory\n",
        "\n",
        "During training, the agent will need to remember all of its observations, actions so that once the episode ends, it can \"reinforce\" the good actions and punish the undesirable actions. Let's do this by defining a simple memory buffer that contains the agent's observations, actions, and received rewards from a given episode. "
      ]
    },
    {
      "metadata": {
        "id": "8MM6JwXVQ4JG",
        "colab_type": "code",
        "colab": {}
      },
      "cell_type": "code",
      "source": [
        "class Memory:\n",
        "  def __init__(self): \n",
        "      self.clear()\n",
        "\n",
        "  def clear(self): \n",
        "      self.observations = []\n",
        "      self.actions = []\n",
        "      self.rewards = []\n",
        "\n",
        "  def add_to_memory(self, new_observation, new_action, new_reward): \n",
        "      self.observations.append(new_observation)\n",
        "      self.actions.append(new_action)\n",
        "      self.rewards.append(new_reward)\n",
        "      # TODO\n",
        "      '''TODO: update the list of rewards with new reward'''\n",
        "      # TODO\n",
        "        \n",
        "memory = Memory()"
      ],
      "execution_count": 0,
      "outputs": []
    },
    {
      "metadata": {
        "id": "D4YhtPaUVj5m",
        "colab_type": "text"
      },
      "cell_type": "markdown",
      "source": [
        "We're almost ready to begin the learning algorithm for our agent! The final step is to compute the discounted rewards of our agent. Recall from lecture, we use reward discount to give more preference at getting rewards now rather than later in the future. The idea of discounting rewards is similar to discounting money in the case of interest and can be defined as: \n",
        "\n",
        ">$R_{t}=\\sum_{k=0}^\\infty\\gamma^kr_{t+k}$\n",
        "\n",
        "where  $\\gamma$ is the discount factor. In other words, at the end of an episode, we'll want to depreciate any rewards received at later time steps. Since we can't play an infinite number of games, we'll be limited to the number of timesteps in an episode. When implementing the function, you can initialize a numpy array of zeros (with length of the number of time steps) and fill it with the real discounted reward values as you loop through the saved rewards from the episode. We'll also want to normalize our output, which you can do using information about the mean and standard deviation of the discounted rewards.\n"
      ]
    },
    {
      "metadata": {
        "id": "5_Q2OFYtQ32X",
        "colab_type": "code",
        "colab": {}
      },
      "cell_type": "code",
      "source": [
        "def normalize(x):\n",
        "  x -= np.mean(x)\n",
        "  x /= np.std(x)\n",
        "  return x\n",
        "\n",
        "def discount_rewards(rewards, gamma=0.95): \n",
        "  discounted_rewards = np.zeros_like(rewards)\n",
        "  R = 0\n",
        "  for t in reversed(range(0, len(rewards))):\n",
        "      # update the total discounted reward\n",
        "      R = R * gamma + rewards[t]\n",
        "      discounted_rewards[t] = R\n",
        "      \n",
        "  return normalize(discounted_rewards)"
      ],
      "execution_count": 0,
      "outputs": []
    },
    {
      "metadata": {
        "id": "QzbY-mjGYcmt",
        "colab_type": "text"
      },
      "cell_type": "markdown",
      "source": [
        "### 1.4 Define the learning algorithm\n",
        "\n",
        "Now we can start to define the learing algorithm which will be used to reinforce good behaviors of the agent and discourage bad behaviours. Start by defining the optimizer we want to use."
      ]
    },
    {
      "metadata": {
        "id": "m3u6xDNMY0zg",
        "colab_type": "code",
        "colab": {}
      },
      "cell_type": "code",
      "source": [
        "learning_rate = 1e-3\n",
        "optimizer = tf.train.AdamOptimizer(learning_rate)"
      ],
      "execution_count": 0,
      "outputs": []
    },
    {
      "metadata": {
        "id": "M-LJwWqTZegG",
        "colab_type": "text"
      },
      "cell_type": "markdown",
      "source": [
        "And now let's define the loss function. In this lab we are focusing on policy gradient methods which aim to **maximize** the likelihood of actions that result in large rewards. Equivalently, this means that we want to **minimize** the negative likelihood of these same actions. Like in supervised learning, we can use stochastic gradient descent methods to achieve this minimization. \n",
        "\n",
        "Since the log function is monotonically increasing, this means that minimizing negative **likelihood** is equivalent to minimizing negative **log-likelihood**.  Recall that we can easily compute the negative log-likelihood of an discrete action by evaluting its softmax cross entropy (https://www.tensorflow.org/api_docs/python/tf/nn/sparse_softmax_cross_entropy_with_logits) "
      ]
    },
    {
      "metadata": {
        "id": "fsgZ3IDCY_Zn",
        "colab_type": "code",
        "colab": {}
      },
      "cell_type": "code",
      "source": [
        "def compute_loss(logits, actions, rewards): \n",
        "  '''TODO: complete the call to compute the loss'''\n",
        "  neg_logprob = tf.nn.sparse_softmax_cross_entropy_with_logits(logits=logits, labels=actions) # TODO\n",
        "  '''TODO: scale the negative log probability by the rewards'''\n",
        "  loss = tf.reduce_mean(neg_logprob * rewards) # TODO\n",
        "  return loss"
      ],
      "execution_count": 0,
      "outputs": []
    },
    {
      "metadata": {
        "id": "Rr5vQ9fqbPpp",
        "colab_type": "text"
      },
      "cell_type": "markdown",
      "source": [
        "Now let's use the loss function to define a backpropogation step of our learning algorithm."
      ]
    },
    {
      "metadata": {
        "id": "_50ada7nbZ7L",
        "colab_type": "code",
        "colab": {}
      },
      "cell_type": "code",
      "source": [
        "def train_step(model, optimizer, observations, actions, discounted_rewards):\n",
        "  with tf.GradientTape() as tape:\n",
        "      # Forward propogate through the agent\n",
        "      observations = tf.convert_to_tensor(observations, dtype=tf.float32)\n",
        "      logits = model(observations)\n",
        "\n",
        "      '''TODO: call the compute_loss function to compute the loss'''\n",
        "      loss = compute_loss(logits, actions, discounted_rewards)\n",
        "\n",
        "  '''TODO: run backpropagation using the tape.gradient method'''\n",
        "  grads = tape.gradient(loss, model.variables) # TODO\n",
        "  optimizer.apply_gradients(zip(grads, model.variables), global_step=tf.train.get_or_create_global_step())"
      ],
      "execution_count": 0,
      "outputs": []
    },
    {
      "metadata": {
        "id": "XsjKXh6BcgjR",
        "colab_type": "text"
      },
      "cell_type": "markdown",
      "source": [
        "### 1.5 Let the agent go and watch it learn from scratch!\n",
        "\n",
        "Having had no prior knowledge of the environment, the agent will begin to learn how to balance the pole on the cart based only on the feedback received from the environment! Having defined how our agent can move, how it takes in new observations, and how it updates its state, we'll see how it gradually learns a policy of actions to optimize balancing the pole as long as possible.\n",
        "\n"
      ]
    },
    {
      "metadata": {
        "id": "XmOzc2rrcn8Q",
        "colab_type": "code",
        "outputId": "9b323a27-fe76-40c1-fe7a-6146c228ebf4",
        "colab": {
          "base_uri": "https://localhost:8080/",
          "height": 705
        }
      },
      "cell_type": "code",
      "source": [
        "cartpole_model = create_cartpole_model()\n",
        "\n",
        "smoothed_reward = util.LossHistory(smoothing_factor=0.9)\n",
        "plotter = util.PeriodicPlotter(sec=5, xlabel='Iterations', ylabel='Rewards')\n",
        "\n",
        "\n",
        "for i_episode in range(1000):\n",
        "\n",
        "  plotter.plot(smoothed_reward.get())\n",
        "\n",
        "  # Restart the environment\n",
        "  observation = env.reset()\n",
        "\n",
        "  while True:\n",
        "      # using our observation, take an action\n",
        "      action = choose_action(cartpole_model, observation)\n",
        "      next_observation, reward, done, info = env.step(action)\n",
        "      # add to memory\n",
        "      memory.add_to_memory(observation, action, reward)\n",
        "      \n",
        "      # is the episode over? did you crash or do so well that you're done?\n",
        "      if done:\n",
        "          # determine total reward and keep a record of this\n",
        "          total_reward = sum(memory.rewards)\n",
        "          smoothed_reward.append( total_reward )\n",
        "          \n",
        "          # initiate training - remember we don't know anything about how the agent is doing until it's crashed!\n",
        "          train_step(cartpole_model, \n",
        "                     optimizer, \n",
        "                     observations = np.vstack(memory.observations),\n",
        "                     actions = np.array(memory.actions),\n",
        "                     discounted_rewards = discount_rewards(memory.rewards)\n",
        "                    )\n",
        "          \n",
        "          memory.clear()\n",
        "          break\n",
        "      # update our observatons\n",
        "      observation = next_observation"
      ],
      "execution_count": 0,
      "outputs": [
        {
          "output_type": "display_data",
          "data": {
            "image/png": "[encoded data removed]",
            "text/plain": [
              "<Figure size 576x396 with 1 Axes>"
            ]
          },
          "metadata": {
            "tags": []
          }
        },
        {
          "output_type": "display_data",
          "data": {
            "image/png": "[encoded data removed]",
            "text/plain": [
              "<Figure size 576x396 with 1 Axes>"
            ]
          },
          "metadata": {
            "tags": []
          }
        }
      ]
    },
    {
      "metadata": {
        "id": "mkcUtGF1VE-K",
        "colab_type": "text"
      },
      "cell_type": "markdown",
      "source": [
        "### 1.6 Save a video of the trained model while it is balancing the pole"
      ]
    },
    {
      "metadata": {
        "id": "M40RoTBxo3HD",
        "colab_type": "code",
        "outputId": "fd3b8d25-3b6d-4404-9555-7b15a2eae0cd",
        "colab": {
          "base_uri": "https://localhost:8080/",
          "height": 34
        }
      },
      "cell_type": "code",
      "source": [
        "def save_video_of_model(model, env_name, filename='agent.mp4'):  \n",
        "  import skvideo.io\n",
        "  from pyvirtualdisplay import Display\n",
        "  display = Display(visible=0, size=(40, 30))\n",
        "  display.start()\n",
        "\n",
        "  env = gym.make(env_name)\n",
        "  obs = env.reset()\n",
        "  shape = env.render(mode='rgb_array').shape[0:2]\n",
        "\n",
        "  out = skvideo.io.FFmpegWriter(filename)\n",
        "\n",
        "  done = False\n",
        "  while not done: \n",
        "      frame = env.render(mode='rgb_array')\n",
        "      out.writeFrame(frame)\n",
        "      \n",
        "      action = model(tf.convert_to_tensor(obs.reshape((1,-1)), tf.float32)).numpy().argmax()\n",
        "      obs, reward, done, info = env.step(action)\n",
        "  out.close()\n",
        "  print \"Successfully saved into {}!\".format(filename)\n",
        "\n",
        "save_video_of_model(cartpole_model, \"CartPole-v0\")"
      ],
      "execution_count": 0,
      "outputs": [
        {
          "output_type": "stream",
          "text": [
            "Successfully saved into agent.mp4!\n"
          ],
          "name": "stdout"
        }
      ]
    },
    {
      "metadata": {
        "id": "dvvqdwO7VV_L",
        "colab_type": "text"
      },
      "cell_type": "markdown",
      "source": [
        "### 1.7 Display the saved video\n"
      ]
    },
    {
      "metadata": {
        "id": "DBjhWQ0XwQ1d",
        "colab_type": "code",
        "outputId": "a7a8eff8-0a71-49a3-cb04-30c7839e9f13",
        "colab": {
          "base_uri": "https://localhost:8080/",
          "height": 421
        }
      },
      "cell_type": "code",
      "source": [
        "from IPython.display import HTML\n",
        "import io, base64\n",
        "video = io.open('./agent.mp4', 'r+b').read()\n",
        "encoded = base64.b64encode(video)\n",
        "HTML(data='''\n",
        "<video controls>\n",
        "    <source src=\"data:video/mp4;base64,{0}\" type=\"video/mp4\" />\n",
        "</video>'''.format(encoded.decode('ascii')))"
      ],
      "execution_count": 0,
      "outputs": [
        {
          "output_type": "execute_result",
          "data": {
            "text/html": [
              "\n",
              "<video controls>\n",
              "    <source src=\"data:video/mp4;base64,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\" type=\"video/mp4\" />\n",
              "</video>"
            ],
            "text/plain": [
              "<IPython.core.display.HTML object>"
            ]
          },
          "metadata": {
            "tags": []
          },
          "execution_count": 23
        }
      ]
    },
    {
      "metadata": {
        "id": "CSbVNDpaVb3_",
        "colab_type": "text"
      },
      "cell_type": "markdown",
      "source": [
        "Congratulations, well done! How does the agent perform? Could you train it for shorter amounts of time and still perform well? Would training longer help even more? "
      ]
    },
    {
      "metadata": {
        "id": "Eu6Mqxc720ST",
        "colab_type": "text"
      },
      "cell_type": "markdown",
      "source": [
        "#Part 2: Pong\n",
        "\n",
        "In Cart Pole, we dealt with an environment that was static--in other words, it didn't change over time. What happens if our environment is dynamic and unpredictable? Well that's exactly the case in Pong, since part of the environment is our opposing player. We don't know how our opponent will act or react to our actions, so the complexity of our problem increases. It also becomes much more interesting, since we can compete to beat our opponent."
      ]
    },
    {
      "metadata": {
        "id": "srZ4YE29isuA",
        "colab_type": "text"
      },
      "cell_type": "markdown",
      "source": [
        "### 2.1 Define and inspect the environment"
      ]
    },
    {
      "metadata": {
        "id": "lbYHLr66i15n",
        "colab_type": "code",
        "outputId": "88987c2a-5ce4-4298-850f-e7c7f8566724",
        "colab": {
          "base_uri": "https://localhost:8080/",
          "height": 34
        }
      },
      "cell_type": "code",
      "source": [
        "env = gym.make(\"Pong-v0\")\n",
        "env.seed(1) # reproducible, since RL has high variance"
      ],
      "execution_count": 0,
      "outputs": [
        {
          "output_type": "execute_result",
          "data": {
            "text/plain": [
              "[1L, 289714752L]"
            ]
          },
          "metadata": {
            "tags": []
          },
          "execution_count": 24
        }
      ]
    },
    {
      "metadata": {
        "id": "pEF-4PIgKyPB",
        "colab_type": "code",
        "colab": {}
      },
      "cell_type": "code",
      "source": [
        ""
      ],
      "execution_count": 0,
      "outputs": []
    },
    {
      "metadata": {
        "id": "52uZ2Xhyi-MW",
        "colab_type": "text"
      },
      "cell_type": "markdown",
      "source": [
        "Observations: \n",
        "\n",
        "1. RGB image of shape (210, 160, 3)\n",
        "\n",
        "We can again confirm the size of the observation space by query:"
      ]
    },
    {
      "metadata": {
        "id": "0yX4GWvxjnHS",
        "colab_type": "code",
        "outputId": "857605d3-3891-472b-ea6f-e43afc1dc5ae",
        "colab": {
          "base_uri": "https://localhost:8080/",
          "height": 34
        }
      },
      "cell_type": "code",
      "source": [
        "print \"Enviornment has observation space = {}\".format(env.observation_space)"
      ],
      "execution_count": 0,
      "outputs": [
        {
          "output_type": "stream",
          "text": [
            "Enviornment has observation space = Box(210, 160, 3)\n"
          ],
          "name": "stdout"
        }
      ]
    },
    {
      "metadata": {
        "id": "uuEC2TdSjx9D",
        "colab_type": "text"
      },
      "cell_type": "markdown",
      "source": [
        "At every time step, the agent has six actions to choose from: noop, fire, move right, move left, fire right, and fire left. Let's confirm the size of the action space by querying the environment:"
      ]
    },
    {
      "metadata": {
        "id": "Iuy9oPc1kag3",
        "colab_type": "code",
        "outputId": "3c01766a-59f5-49d9-e225-1c70197eafd8",
        "colab": {
          "base_uri": "https://localhost:8080/",
          "height": 34
        }
      },
      "cell_type": "code",
      "source": [
        "n_actions = env.action_space.n\n",
        "print \"Number of possible actions that the agent can choose from = {}\".format(n_actions)"
      ],
      "execution_count": 0,
      "outputs": [
        {
          "output_type": "stream",
          "text": [
            "Number of possible actions that the agent can choose from = 6\n"
          ],
          "name": "stdout"
        }
      ]
    },
    {
      "metadata": {
        "id": "9-fghDRigUE5",
        "colab_type": "text"
      },
      "cell_type": "markdown",
      "source": [
        "### 2.2 Define the Agent\n",
        "\n",
        "We'll define our agent again, but this time, we'll add convolutional layers to the network to increase the learning capacity of our network."
      ]
    },
    {
      "metadata": {
        "id": "IJiqbFYpgYRH",
        "colab_type": "code",
        "colab": {}
      },
      "cell_type": "code",
      "source": [
        "def create_pong_model():\n",
        "  model = tf.keras.models.Sequential([\n",
        "      # Define and reshape inputs\n",
        "      tf.keras.layers.InputLayer(input_shape=(6400,), dtype=tf.float32),\n",
        "      tf.keras.layers.Reshape((80, 80, 1)),\n",
        "      \n",
        "      # Convolutional layers\n",
        "      tf.keras.layers.Conv2D(filters=16, kernel_size=(8,8), \n",
        "                             strides=(4,4), activation='relu', padding='same'),\n",
        "      # TODO: define a convolutional layer with 32 4x4 filters and 2x2 stride, ReLu activation\n",
        "      tf.keras.layers.Conv2D(filters=32, kernel_size=(4,4), \n",
        "                             strides=(2,2), activation='relu', padding='same'), # TODO\n",
        "      tf.keras.layers.Flatten(),\n",
        "      \n",
        "      # Fully connected layer and output\n",
        "      tf.keras.layers.Dense(units=256, activation='relu'),\n",
        "      # TODO: define the output dimension of the last Dense layer\n",
        "      # Hint: think about that the space the agent needs to act in\n",
        "      tf.keras.layers.Dense(units=n_actions, activation=None) # TODO\n",
        "  ])\n",
        "  return model\n",
        "\n",
        "pong_model = create_pong_model()"
      ],
      "execution_count": 0,
      "outputs": []
    },
    {
      "metadata": {
        "id": "yaeZ067olFiJ",
        "colab_type": "text"
      },
      "cell_type": "markdown",
      "source": [
        "Since we've already defined the action function, `choose_action(model, observation)`, we don't need to define it again. Instead, we'll be able to reuse it later on by passing in our new model we've just created, `pong_model`. "
      ]
    },
    {
      "metadata": {
        "id": "l0RvqOVkmc2r",
        "colab_type": "text"
      },
      "cell_type": "markdown",
      "source": [
        "### 2.3 Helper Functions"
      ]
    },
    {
      "metadata": {
        "id": "g4xtfog0mupM",
        "colab_type": "text"
      },
      "cell_type": "markdown",
      "source": [
        "We've already implemented some functions in Part 1 (Cartpole), so we won't need to recreate them in this section. However, we might need to make some slight modifications. For example, we need to reset the reward to zero when a game ends. In Pong, we know a game has ended if the reward is +1 (we won!) or -1 (we lost unfortunately). Otherwise, we expect the reward at a timestep to be zero. Also, note that we've increased gamma from 0.95 to 0.99, so the rate of decay will be even more rapid."
      ]
    },
    {
      "metadata": {
        "id": "iEZG2o50luLu",
        "colab_type": "code",
        "colab": {}
      },
      "cell_type": "code",
      "source": [
        "def discount_rewards(rewards, gamma=0.99): \n",
        "  discounted_rewards = np.zeros_like(rewards)\n",
        "  R = 0\n",
        "  for t in reversed(range(0, len(rewards))):\n",
        "      # NEW: Reset sum\n",
        "      if rewards[t] != 0:\n",
        "        R = 0\n",
        "      # update the total discounted reward as before\n",
        "      R = R * gamma + rewards[t]\n",
        "      discounted_rewards[t] = R\n",
        "      \n",
        "  return normalize(discounted_rewards)"
      ],
      "execution_count": 0,
      "outputs": []
    },
    {
      "metadata": {
        "id": "HopLpb4IoOqA",
        "colab_type": "text"
      },
      "cell_type": "markdown",
      "source": [
        "Before we input an image into our network, we'll need to pre-process it by converting it into a 1D array of floating point numbers:"
      ]
    },
    {
      "metadata": {
        "id": "Drpkn38Goout",
        "colab_type": "code",
        "colab": {}
      },
      "cell_type": "code",
      "source": [
        "def pre_process(image):\n",
        "  I = image[35:195] # Crop\n",
        "  I = I[::2, ::2, 0] # Downsample width and height by a factor of 2\n",
        "  I[I == 144] = 0 # Remove background type 1\n",
        "  I[I == 109] = 0 # Remove background type 2\n",
        "  I[I != 0] = 1 # Set remaining elements (paddles, ball, etc.) to 1\n",
        "  return I.astype(np.float).ravel()"
      ],
      "execution_count": 0,
      "outputs": []
    },
    {
      "metadata": {
        "id": "-tP8_Bna6pgJ",
        "colab_type": "text"
      },
      "cell_type": "markdown",
      "source": [
        "Let's use this function to visualize what an observation might look like before and after pre-processing"
      ]
    },
    {
      "metadata": {
        "id": "no5IIYtFm8pI",
        "colab_type": "code",
        "outputId": "fdff5765-9eef-481b-ef8c-d9745bfeec25",
        "colab": {
          "base_uri": "https://localhost:8080/",
          "height": 296
        }
      },
      "cell_type": "code",
      "source": [
        "observation = env.reset()\n",
        "for i in range(30):\n",
        "  observation, _,_,_ = env.step(0)\n",
        "observation_pp = pre_process(observation)\n",
        "\n",
        "f = plt.figure(figsize=(10,3))\n",
        "ax = f.add_subplot(121)\n",
        "ax2 = f.add_subplot(122)\n",
        "ax.imshow(observation); ax.grid('off');\n",
        "ax2.imshow(observation_pp.reshape((80,80))); ax2.grid('off'); plt.title('Preprocessed Observation')"
      ],
      "execution_count": 0,
      "outputs": [
        {
          "output_type": "stream",
          "text": [
            "/usr/local/lib/python2.7/dist-packages/matplotlib/cbook/deprecation.py:107: MatplotlibDeprecationWarning: Passing one of 'on', 'true', 'off', 'false' as a boolean is deprecated; use an actual boolean (True/False) instead.\n",
            "  warnings.warn(message, mplDeprecation, stacklevel=1)\n"
          ],
          "name": "stderr"
        },
        {
          "output_type": "execute_result",
          "data": {
            "text/plain": [
              "Text(0.5,1,'Preprocessed Observation')"
            ]
          },
          "metadata": {
            "tags": []
          },
          "execution_count": 31
        },
        {
          "output_type": "display_data",
          "data": {
            "image/png": "[encoded data removed]",
            "text/plain": [
              "<Figure size 720x216 with 2 Axes>"
            ]
          },
          "metadata": {
            "tags": []
          }
        }
      ]
    },
    {
      "metadata": {
        "id": "mRqcaDQ1pm3x",
        "colab_type": "text"
      },
      "cell_type": "markdown",
      "source": [
        "### 2.4: Training\n",
        "We've already defined our loss function with `compute_loss`, which is great! If we want to use a different learning rate, though, we can reinitialize the `optimizer`:"
      ]
    },
    {
      "metadata": {
        "id": "cIjRZ8JUqBLV",
        "colab_type": "code",
        "colab": {}
      },
      "cell_type": "code",
      "source": [
        "learning_rate=1e-4\n",
        "optimizer = tf.train.AdamOptimizer(learning_rate)"
      ],
      "execution_count": 0,
      "outputs": []
    },
    {
      "metadata": {
        "id": "IL2lMbTDn6Z3",
        "colab_type": "text"
      },
      "cell_type": "markdown",
      "source": [
        "We can also implement a very simple variant of `plot_progress`. In Pong, rather than feeding our network one image at a time, it can actually improve performance to input the difference between two consecutive observations, which really gives us information about the movement between frames. We'll first pre-process the raw observation, `x`, and then we'll compute the difference with the image frame we saw one timestep before. We'll also increase the number of maximum iterations from 1000 to 10000, since we expect it to take many more iterations to learn a more complex game."
      ]
    },
    {
      "metadata": {
        "id": "xCwyQQrPnkZG",
        "colab_type": "code",
        "outputId": "dc5d3c21-7285-42b7-c0b1-dd8300641bea",
        "colab": {
          "base_uri": "https://localhost:8080/",
          "height": 231
        }
      },
      "cell_type": "code",
      "source": [
        "pong_model = create_pong_model()\n",
        "MAX_ITERS = 10000\n",
        "\n",
        "smoothed_reward = util.LossHistory(smoothing_factor=0.9)\n",
        "plotter = util.PeriodicPlotter(sec=5, xlabel='Iterations', ylabel='Rewards')\n",
        "memory = Memory()\n",
        "\n",
        "for i_episode in range(MAX_ITERS):\n",
        "\n",
        "  plotter.plot(smoothed_reward.get())\n",
        "\n",
        "  # Restart the environment\n",
        "  observation = env.reset()\n",
        "  previous_frame = pre_process(observation)\n",
        "\n",
        "\n",
        "  while True:\n",
        "      # Pre-process image \n",
        "      current_frame = pre_process(observation)\n",
        "      \n",
        "      '''TODO: determine the observation change\n",
        "      Hint: this is the difference between the past two frames'''\n",
        "      obs_change = current_frame-previous_frame\n",
        "      \n",
        "      '''TODO: choose an action for the pong model, using the frame difference, and evaluate'''\n",
        "      action = choose_action(pong_model, obs_change)\n",
        "      # Take the chosen action\n",
        "      next_observation, reward, done, info = env.step(action)\n",
        "      '''TODO: save the observed frame difference, the action that was taken, and the resulting reward!'''\n",
        "      memory.add_to_memory(obs_change, action, reward)\n",
        "      # TODO\n",
        "      \n",
        "      # is the episode over? did you crash or do so well that you're done?\n",
        "      if done:\n",
        "          # determine total reward and keep a record of this\n",
        "          total_reward = sum(memory.rewards)\n",
        "          smoothed_reward.append( total_reward )\n",
        "          \n",
        "          # begin training\n",
        "          train_step(pong_model, \n",
        "                     optimizer, \n",
        "                     observations = np.vstack(memory.observations), \n",
        "                     actions = np.array(memory.actions),\n",
        "                     discounted_rewards = discount_rewards(memory.rewards))\n",
        "          \n",
        "          memory.clear()\n",
        "          break\n",
        "\n",
        "      observation = next_observation\n",
        "      previous_frame = current_frame"
      ],
      "execution_count": 0,
      "outputs": [
        {
          "output_type": "error",
          "ename": "NameError",
          "evalue": "ignored",
          "traceback": [
            "\u001b[0;31m\u001b[0m",
            "\u001b[0;31mNameError\u001b[0mTraceback (most recent call last)",
            "\u001b[0;32m<ipython-input-1-f93439e0b783>\u001b[0m in \u001b[0;36m<module>\u001b[0;34m()\u001b[0m\n\u001b[0;32m----> 1\u001b[0;31m \u001b[0mpong_model\u001b[0m \u001b[0;34m=\u001b[0m \u001b[0mcreate_pong_model\u001b[0m\u001b[0;34m(\u001b[0m\u001b[0;34m)\u001b[0m\u001b[0;34m\u001b[0m\u001b[0m\n\u001b[0m\u001b[1;32m      2\u001b[0m \u001b[0mMAX_ITERS\u001b[0m \u001b[0;34m=\u001b[0m \u001b[0;36m10000\u001b[0m\u001b[0;34m\u001b[0m\u001b[0m\n\u001b[1;32m      3\u001b[0m \u001b[0;34m\u001b[0m\u001b[0m\n\u001b[1;32m      4\u001b[0m \u001b[0msmoothed_reward\u001b[0m \u001b[0;34m=\u001b[0m \u001b[0mutil\u001b[0m\u001b[0;34m.\u001b[0m\u001b[0mLossHistory\u001b[0m\u001b[0;34m(\u001b[0m\u001b[0msmoothing_factor\u001b[0m\u001b[0;34m=\u001b[0m\u001b[0;36m0.9\u001b[0m\u001b[0;34m)\u001b[0m\u001b[0;34m\u001b[0m\u001b[0m\n\u001b[1;32m      5\u001b[0m \u001b[0mplotter\u001b[0m \u001b[0;34m=\u001b[0m \u001b[0mutil\u001b[0m\u001b[0;34m.\u001b[0m\u001b[0mPeriodicPlotter\u001b[0m\u001b[0;34m(\u001b[0m\u001b[0msec\u001b[0m\u001b[0;34m=\u001b[0m\u001b[0;36m5\u001b[0m\u001b[0;34m,\u001b[0m \u001b[0mxlabel\u001b[0m\u001b[0;34m=\u001b[0m\u001b[0;34m'Iterations'\u001b[0m\u001b[0;34m,\u001b[0m \u001b[0mylabel\u001b[0m\u001b[0;34m=\u001b[0m\u001b[0;34m'Rewards'\u001b[0m\u001b[0;34m)\u001b[0m\u001b[0;34m\u001b[0m\u001b[0m\n",
            "\u001b[0;31mNameError\u001b[0m: name 'create_pong_model' is not defined"
          ]
        }
      ]
    },
    {
      "metadata": {
        "id": "nwXjQH-puH5D",
        "colab_type": "text"
      },
      "cell_type": "markdown",
      "source": [
        "### 2.5: Save and display video of training"
      ]
    },
    {
      "metadata": {
        "id": "8LiEY5Y_ts-Z",
        "colab_type": "text"
      },
      "cell_type": "markdown",
      "source": [
        "We can now save the video of our model learning:"
      ]
    },
    {
      "metadata": {
        "id": "TvHXbkL0tR6M",
        "colab_type": "code",
        "colab": {}
      },
      "cell_type": "code",
      "source": [
        "save_video_of_model(pong_model, \"Pong-v0\", filename='pong_agent.mp4')  "
      ],
      "execution_count": 0,
      "outputs": []
    },
    {
      "metadata": {
        "id": "xmIcylIzuWaL",
        "colab_type": "text"
      },
      "cell_type": "markdown",
      "source": [
        "And display the result:"
      ]
    },
    {
      "metadata": {
        "id": "qoOBQSrXt2Ib",
        "colab_type": "code",
        "colab": {}
      },
      "cell_type": "code",
      "source": [
        "from IPython.display import HTML\n",
        "import io, base64\n",
        "video = io.open('./pong_agent.mp4', 'r+b').read()\n",
        "encoded = base64.b64encode(video)\n",
        "HTML(data='''\n",
        "<video controls>\n",
        "    <source src=\"data:video/mp4;base64,{0}\" type=\"video/mp4\" />\n",
        "</video>'''.format(encoded.decode('ascii')))"
      ],
      "execution_count": 0,
      "outputs": []
    }
  ]
}